{
 "cells": [
  {
   "cell_type": "code",
   "execution_count": 4,
   "metadata": {},
   "outputs": [],
   "source": [
    "# import pandas\n",
    "import pandas as pd\n",
    "import warnings\n",
    "from IPython.core.display import display, HTML\n",
    "\n",
    "# Suppressing warnings (optional)\n",
    "warnings.filterwarnings('ignore')\n"
   ]
  },
  {
   "cell_type": "code",
   "execution_count": null,
   "metadata": {},
   "outputs": [],
   "source": [
    "# Styles for tables to be used in the notebook\n",
    "# custom CSS styles for tables\n",
    "table_styles = \"\"\"\n",
    "<style>\n",
    "    /* Change background color of header row */\n",
    "    th {\n",
    "        background-color: #2c3e50;\n",
    "    }\n",
    "    /* Change background color of even rows */\n",
    "    tr:nth-child(even) {\n",
    "        background-color: #34495e;\n",
    "    }\n",
    "    /* Change background color of odd rows */\n",
    "    tr:nth-child(odd) {\n",
    "        background-color: #2c3e50;\n",
    "    }\n",
    "    /* Change text color of all cells */\n",
    "    td {\n",
    "        color: white;\n",
    "    }\n",
    "</style>\n",
    "\"\"\"\n",
    "\n",
    "# Apply the custom CSS styles to the table\n",
    "display(HTML(table_styles))"
   ]
  },
  {
   "cell_type": "code",
   "execution_count": null,
   "metadata": {},
   "outputs": [],
   "source": [
    "# read csv file\n",
    "results_df = pd.read_csv(\"./UaceResults2011-2015.csv\")\n",
    "\n",
    "results_df.head(5)"
   ]
  },
  {
   "cell_type": "code",
   "execution_count": null,
   "metadata": {},
   "outputs": [],
   "source": [
    "# discover null rows\n",
    "print(results_df.isnull().sum())"
   ]
  },
  {
   "cell_type": "code",
   "execution_count": null,
   "metadata": {},
   "outputs": [],
   "source": [
    "# Change school totals for schools with no students in a particular year to zeros\n",
    "zero_school_total_columns = ['2011 Total', '2012 Total', '2013 Total', '2014 Total', '2015 Total']\n",
    "\n",
    "results_df[zero_school_total_columns] =results_df[zero_school_total_columns].fillna(0.0)\n"
   ]
  },
  {
   "cell_type": "code",
   "execution_count": null,
   "metadata": {},
   "outputs": [],
   "source": [
    "\n",
    "# discover current null rows\n",
    "print(results_df.isnull().sum())"
   ]
  }
 ],
 "metadata": {
  "kernelspec": {
   "display_name": "Python 3",
   "language": "python",
   "name": "python3"
  },
  "language_info": {
   "codemirror_mode": {
    "name": "ipython",
    "version": 3
   },
   "file_extension": ".py",
   "mimetype": "text/x-python",
   "name": "python",
   "nbconvert_exporter": "python",
   "pygments_lexer": "ipython3",
   "version": "3.11.4"
  },
  "orig_nbformat": 4
 },
 "nbformat": 4,
 "nbformat_minor": 2
}
