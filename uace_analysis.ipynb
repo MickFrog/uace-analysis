{
 "cells": [
  {
   "cell_type": "markdown",
   "metadata": {},
   "source": [
    "# GROUP C\n",
    "\n",
    "# DATA ANALYSIS OF UACE RESULTS 2011-2015"
   ]
  },
  {
   "cell_type": "markdown",
   "metadata": {},
   "source": []
  },
  {
   "cell_type": "code",
   "execution_count": 14,
   "metadata": {},
   "outputs": [],
   "source": [
    "################ CRONNIE ################\n",
    "\n",
    "# import pandas\n",
    "import pandas as pd\n",
    "import warnings\n",
    "from IPython.core.display import display, HTML\n",
    "\n",
    "# Suppressing warnings (optional)\n",
    "warnings.filterwarnings('ignore')"
   ]
  },
  {
   "cell_type": "code",
   "execution_count": 15,
   "metadata": {},
   "outputs": [
    {
     "data": {
      "text/html": [
       "\n",
       "<style>\n",
       "    /* Change background color of header row */\n",
       "    th {\n",
       "        background-color: #2c3e50;\n",
       "    }\n",
       "    /* Change background color of even rows */\n",
       "    tr:nth-child(even) {\n",
       "        background-color: #34495e;\n",
       "    }\n",
       "    /* Change background color of odd rows */\n",
       "    tr:nth-child(odd) {\n",
       "        background-color: #2c3e50;\n",
       "    }\n",
       "    /* Change text color of all cells */\n",
       "    td {\n",
       "        color: white;\n",
       "    }\n",
       "</style>\n"
      ],
      "text/plain": [
       "<IPython.core.display.HTML object>"
      ]
     },
     "metadata": {},
     "output_type": "display_data"
    }
   ],
   "source": [
    "# Styles for tables to be used in the notebook\n",
    "# custom CSS styles for tables\n",
    "table_styles = \"\"\"\n",
    "<style>\n",
    "    /* Change background color of header row */\n",
    "    th {\n",
    "        background-color: #2c3e50;\n",
    "    }\n",
    "    /* Change background color of even rows */\n",
    "    tr:nth-child(even) {\n",
    "        background-color: #34495e;\n",
    "    }\n",
    "    /* Change background color of odd rows */\n",
    "    tr:nth-child(odd) {\n",
    "        background-color: #2c3e50;\n",
    "    }\n",
    "    /* Change text color of all cells */\n",
    "    td {\n",
    "        color: white;\n",
    "    }\n",
    "</style>\n",
    "\"\"\"\n",
    "\n",
    "# Apply the custom CSS styles to the table\n",
    "display(HTML(table_styles))"
   ]
  },
  {
   "cell_type": "markdown",
   "metadata": {},
   "source": [
    "## Data Cleaning\n"
   ]
  },
  {
   "cell_type": "code",
   "execution_count": 16,
   "metadata": {},
   "outputs": [
    {
     "data": {
      "text/html": [
       "<div>\n",
       "<style scoped>\n",
       "    .dataframe tbody tr th:only-of-type {\n",
       "        vertical-align: middle;\n",
       "    }\n",
       "\n",
       "    .dataframe tbody tr th {\n",
       "        vertical-align: top;\n",
       "    }\n",
       "\n",
       "    .dataframe thead th {\n",
       "        text-align: right;\n",
       "    }\n",
       "</style>\n",
       "<table border=\"1\" class=\"dataframe\">\n",
       "  <thead>\n",
       "    <tr style=\"text-align: right;\">\n",
       "      <th></th>\n",
       "      <th>District_Name</th>\n",
       "      <th>SCHOOL</th>\n",
       "      <th>Gender</th>\n",
       "      <th>2011 Total</th>\n",
       "      <th>%0-5 Points</th>\n",
       "      <th>%6-10 Points</th>\n",
       "      <th>%11-15 Points</th>\n",
       "      <th>%16-20 Points</th>\n",
       "      <th>%21-25 Points</th>\n",
       "      <th>2012 Total</th>\n",
       "      <th>...</th>\n",
       "      <th>2014 Total</th>\n",
       "      <th>%0-5 Points.3</th>\n",
       "      <th>%6-10 Points.3</th>\n",
       "      <th>%11-15 Points.3</th>\n",
       "      <th>%16-20 Points.3</th>\n",
       "      <th>2015 Total</th>\n",
       "      <th>%0-5 Points.4</th>\n",
       "      <th>%6-10 Points.4</th>\n",
       "      <th>%11-15 Points.4</th>\n",
       "      <th>%16-20 Points.4</th>\n",
       "    </tr>\n",
       "  </thead>\n",
       "  <tbody>\n",
       "    <tr>\n",
       "      <th>0</th>\n",
       "      <td>AMUDAT</td>\n",
       "      <td>POKOT SECONDARY SCHOOL</td>\n",
       "      <td>FEMALE</td>\n",
       "      <td>NaN</td>\n",
       "      <td>0.0</td>\n",
       "      <td>0.0</td>\n",
       "      <td>0.0</td>\n",
       "      <td>0.0</td>\n",
       "      <td>0.0</td>\n",
       "      <td>3.0</td>\n",
       "      <td>...</td>\n",
       "      <td>2.0</td>\n",
       "      <td>50.0</td>\n",
       "      <td>0.0</td>\n",
       "      <td>50.0</td>\n",
       "      <td>0.0</td>\n",
       "      <td>1</td>\n",
       "      <td>0.0</td>\n",
       "      <td>0.0</td>\n",
       "      <td>100.0</td>\n",
       "      <td>0.0</td>\n",
       "    </tr>\n",
       "    <tr>\n",
       "      <th>1</th>\n",
       "      <td>AMUDAT</td>\n",
       "      <td>NaN</td>\n",
       "      <td>MALE</td>\n",
       "      <td>NaN</td>\n",
       "      <td>0.0</td>\n",
       "      <td>0.0</td>\n",
       "      <td>0.0</td>\n",
       "      <td>0.0</td>\n",
       "      <td>0.0</td>\n",
       "      <td>8.0</td>\n",
       "      <td>...</td>\n",
       "      <td>9.0</td>\n",
       "      <td>55.6</td>\n",
       "      <td>44.4</td>\n",
       "      <td>0.0</td>\n",
       "      <td>0.0</td>\n",
       "      <td>4</td>\n",
       "      <td>25.0</td>\n",
       "      <td>50.0</td>\n",
       "      <td>25.0</td>\n",
       "      <td>0.0</td>\n",
       "    </tr>\n",
       "    <tr>\n",
       "      <th>2</th>\n",
       "      <td>AMUDAT Total</td>\n",
       "      <td>NaN</td>\n",
       "      <td>NaN</td>\n",
       "      <td>NaN</td>\n",
       "      <td>0.0</td>\n",
       "      <td>0.0</td>\n",
       "      <td>0.0</td>\n",
       "      <td>0.0</td>\n",
       "      <td>0.0</td>\n",
       "      <td>11.0</td>\n",
       "      <td>...</td>\n",
       "      <td>11.0</td>\n",
       "      <td>54.5</td>\n",
       "      <td>36.4</td>\n",
       "      <td>9.1</td>\n",
       "      <td>0.0</td>\n",
       "      <td></td>\n",
       "      <td>20.0</td>\n",
       "      <td>40.0</td>\n",
       "      <td>40.0</td>\n",
       "      <td>0.0</td>\n",
       "    </tr>\n",
       "    <tr>\n",
       "      <th>3</th>\n",
       "      <td>PADER</td>\n",
       "      <td>ARCHBP.FLYNN SECONDARY SCHOOL</td>\n",
       "      <td>FEMALE</td>\n",
       "      <td>NaN</td>\n",
       "      <td>0.0</td>\n",
       "      <td>0.0</td>\n",
       "      <td>0.0</td>\n",
       "      <td>0.0</td>\n",
       "      <td>0.0</td>\n",
       "      <td>NaN</td>\n",
       "      <td>...</td>\n",
       "      <td>NaN</td>\n",
       "      <td>0.0</td>\n",
       "      <td>0.0</td>\n",
       "      <td>0.0</td>\n",
       "      <td>0.0</td>\n",
       "      <td>14</td>\n",
       "      <td>21.4</td>\n",
       "      <td>42.9</td>\n",
       "      <td>35.7</td>\n",
       "      <td>0.0</td>\n",
       "    </tr>\n",
       "    <tr>\n",
       "      <th>4</th>\n",
       "      <td>PADER</td>\n",
       "      <td>NaN</td>\n",
       "      <td>MALE</td>\n",
       "      <td>NaN</td>\n",
       "      <td>0.0</td>\n",
       "      <td>0.0</td>\n",
       "      <td>0.0</td>\n",
       "      <td>0.0</td>\n",
       "      <td>0.0</td>\n",
       "      <td>NaN</td>\n",
       "      <td>...</td>\n",
       "      <td>NaN</td>\n",
       "      <td>0.0</td>\n",
       "      <td>0.0</td>\n",
       "      <td>0.0</td>\n",
       "      <td>0.0</td>\n",
       "      <td>22</td>\n",
       "      <td>40.9</td>\n",
       "      <td>50.0</td>\n",
       "      <td>9.1</td>\n",
       "      <td>0.0</td>\n",
       "    </tr>\n",
       "  </tbody>\n",
       "</table>\n",
       "<p>5 rows × 30 columns</p>\n",
       "</div>"
      ],
      "text/plain": [
       "  District_Name                         SCHOOL  Gender  2011 Total  \\\n",
       "0        AMUDAT         POKOT SECONDARY SCHOOL  FEMALE         NaN   \n",
       "1        AMUDAT                            NaN    MALE         NaN   \n",
       "2  AMUDAT Total                            NaN     NaN         NaN   \n",
       "3         PADER  ARCHBP.FLYNN SECONDARY SCHOOL  FEMALE         NaN   \n",
       "4         PADER                            NaN    MALE         NaN   \n",
       "\n",
       "   %0-5 Points  %6-10 Points  %11-15 Points  %16-20 Points  %21-25 Points  \\\n",
       "0          0.0           0.0            0.0            0.0            0.0   \n",
       "1          0.0           0.0            0.0            0.0            0.0   \n",
       "2          0.0           0.0            0.0            0.0            0.0   \n",
       "3          0.0           0.0            0.0            0.0            0.0   \n",
       "4          0.0           0.0            0.0            0.0            0.0   \n",
       "\n",
       "   2012 Total  ...  2014 Total  %0-5 Points.3  %6-10 Points.3  \\\n",
       "0         3.0  ...         2.0           50.0             0.0   \n",
       "1         8.0  ...         9.0           55.6            44.4   \n",
       "2        11.0  ...        11.0           54.5            36.4   \n",
       "3         NaN  ...         NaN            0.0             0.0   \n",
       "4         NaN  ...         NaN            0.0             0.0   \n",
       "\n",
       "   %11-15 Points.3  %16-20 Points.3  2015 Total  %0-5 Points.4  \\\n",
       "0             50.0              0.0           1            0.0   \n",
       "1              0.0              0.0           4           25.0   \n",
       "2              9.1              0.0                       20.0   \n",
       "3              0.0              0.0          14           21.4   \n",
       "4              0.0              0.0          22           40.9   \n",
       "\n",
       "   %6-10 Points.4  %11-15 Points.4  %16-20 Points.4  \n",
       "0             0.0            100.0              0.0  \n",
       "1            50.0             25.0              0.0  \n",
       "2            40.0             40.0              0.0  \n",
       "3            42.9             35.7              0.0  \n",
       "4            50.0              9.1              0.0  \n",
       "\n",
       "[5 rows x 30 columns]"
      ]
     },
     "execution_count": 16,
     "metadata": {},
     "output_type": "execute_result"
    }
   ],
   "source": [
    "# read csv file\n",
    "results_df = pd.read_csv(\"./UaceResults2011-2015.csv\")\n",
    "\n",
    "results_df.head(5)"
   ]
  },
  {
   "cell_type": "code",
   "execution_count": 17,
   "metadata": {},
   "outputs": [
    {
     "name": "stdout",
     "output_type": "stream",
     "text": [
      "District_Name         0\n",
      "SCHOOL             1959\n",
      "Gender              114\n",
      "2011 Total         1240\n",
      "%0-5 Points           0\n",
      "%6-10 Points          0\n",
      "%11-15 Points         0\n",
      "%16-20 Points         0\n",
      "%21-25 Points         0\n",
      "2012 Total          985\n",
      "%0-5 Points.1         0\n",
      "%6-10 Points.1        0\n",
      "%11-15 Points.1       0\n",
      "%16-20 Points.1       0\n",
      "%21-25 Points.1       0\n",
      "2013 Total          553\n",
      "%0-5 Points.2         0\n",
      "%6-10 Points.2        0\n",
      "%11-15 Points.2       0\n",
      "%16-20 Points.2       0\n",
      "2014 Total          358\n",
      "%0-5 Points.3         0\n",
      "%6-10 Points.3        0\n",
      "%11-15 Points.3       0\n",
      "%16-20 Points.3       0\n",
      "2015 Total          295\n",
      "%0-5 Points.4         0\n",
      "%6-10 Points.4        0\n",
      "%11-15 Points.4       0\n",
      "%16-20 Points.4       0\n",
      "dtype: int64\n"
     ]
    }
   ],
   "source": [
    "# discover null rows\n",
    "print(results_df.isnull().sum())"
   ]
  },
  {
   "cell_type": "code",
   "execution_count": 18,
   "metadata": {},
   "outputs": [],
   "source": [
    "# Change school totals for schools with no students in a particular year to zeros\n",
    "zero_school_total_columns = ['2011 Total', '2012 Total', '2013 Total', '2014 Total', '2015 Total']\n",
    "\n",
    "results_df[zero_school_total_columns] =results_df[zero_school_total_columns].fillna(0.0)\n"
   ]
  },
  {
   "cell_type": "code",
   "execution_count": 19,
   "metadata": {},
   "outputs": [
    {
     "name": "stdout",
     "output_type": "stream",
     "text": [
      "District_Name         0\n",
      "SCHOOL             1959\n",
      "Gender              114\n",
      "2011 Total            0\n",
      "%0-5 Points           0\n",
      "%6-10 Points          0\n",
      "%11-15 Points         0\n",
      "%16-20 Points         0\n",
      "%21-25 Points         0\n",
      "2012 Total            0\n",
      "%0-5 Points.1         0\n",
      "%6-10 Points.1        0\n",
      "%11-15 Points.1       0\n",
      "%16-20 Points.1       0\n",
      "%21-25 Points.1       0\n",
      "2013 Total            0\n",
      "%0-5 Points.2         0\n",
      "%6-10 Points.2        0\n",
      "%11-15 Points.2       0\n",
      "%16-20 Points.2       0\n",
      "2014 Total            0\n",
      "%0-5 Points.3         0\n",
      "%6-10 Points.3        0\n",
      "%11-15 Points.3       0\n",
      "%16-20 Points.3       0\n",
      "2015 Total            0\n",
      "%0-5 Points.4         0\n",
      "%6-10 Points.4        0\n",
      "%11-15 Points.4       0\n",
      "%16-20 Points.4       0\n",
      "dtype: int64\n"
     ]
    }
   ],
   "source": [
    "# discover current null rows\n",
    "print(results_df.isnull().sum())"
   ]
  },
  {
   "cell_type": "code",
   "execution_count": 20,
   "metadata": {},
   "outputs": [],
   "source": [
    "######################## OJOK ###########################\n",
    "\n",
    "# Handle misplaced schools\n",
    "'''\n",
    "Algorithm: If cell in 'SCHOOL' column is empty AND the entry is not for DISTRICT TOTAL ie cell for DISTRICT doesn't contain 'Total'\n",
    "            THEN copy the SCHOOL before and paste it in the current SCHOOL cell.\n",
    "'''\n",
    "# Loop through the DataFrame and fill empty cells in the 'SCHOOL' column\n",
    "previous_school = None\n",
    "\n",
    "for index, row in results_df.iterrows():\n",
    "    if pd.isnull(row['SCHOOL']):\n",
    "        district_name = row['District_Name']\n",
    "        # We make sure the previous school in the entry before isn't null so that we don't copy null values if present.\n",
    "        if previous_school is not None and 'total' not in district_name.lower():\n",
    "            results_df.at[index, 'SCHOOL'] = previous_school\n",
    "    else:\n",
    "        previous_school = row['SCHOOL']\n"
   ]
  },
  {
   "cell_type": "code",
   "execution_count": 21,
   "metadata": {},
   "outputs": [
    {
     "name": "stdout",
     "output_type": "stream",
     "text": [
      "District_Name        0\n",
      "SCHOOL             112\n",
      "Gender             114\n",
      "2011 Total           0\n",
      "%0-5 Points          0\n",
      "%6-10 Points         0\n",
      "%11-15 Points        0\n",
      "%16-20 Points        0\n",
      "%21-25 Points        0\n",
      "2012 Total           0\n",
      "%0-5 Points.1        0\n",
      "%6-10 Points.1       0\n",
      "%11-15 Points.1      0\n",
      "%16-20 Points.1      0\n",
      "%21-25 Points.1      0\n",
      "2013 Total           0\n",
      "%0-5 Points.2        0\n",
      "%6-10 Points.2       0\n",
      "%11-15 Points.2      0\n",
      "%16-20 Points.2      0\n",
      "2014 Total           0\n",
      "%0-5 Points.3        0\n",
      "%6-10 Points.3       0\n",
      "%11-15 Points.3      0\n",
      "%16-20 Points.3      0\n",
      "2015 Total           0\n",
      "%0-5 Points.4        0\n",
      "%6-10 Points.4       0\n",
      "%11-15 Points.4      0\n",
      "%16-20 Points.4      0\n",
      "dtype: int64\n"
     ]
    }
   ],
   "source": [
    "# discover current null rows\n",
    "print(results_df.isnull().sum())"
   ]
  },
  {
   "cell_type": "code",
   "execution_count": 22,
   "metadata": {},
   "outputs": [],
   "source": [
    "# Remove genderless entries that are not district totals\n",
    "\n",
    "# Filter and remove entries where 'Gender' column is empty and 'District_Name' doesn't contain 'Total'\n",
    "results_df = results_df[~(results_df['Gender'].isnull() & ~results_df['District_Name'].str.contains('Total', case=False))]\n"
   ]
  },
  {
   "cell_type": "code",
   "execution_count": 23,
   "metadata": {},
   "outputs": [
    {
     "name": "stdout",
     "output_type": "stream",
     "text": [
      "District_Name        0\n",
      "SCHOOL             112\n",
      "Gender             112\n",
      "2011 Total           0\n",
      "%0-5 Points          0\n",
      "%6-10 Points         0\n",
      "%11-15 Points        0\n",
      "%16-20 Points        0\n",
      "%21-25 Points        0\n",
      "2012 Total           0\n",
      "%0-5 Points.1        0\n",
      "%6-10 Points.1       0\n",
      "%11-15 Points.1      0\n",
      "%16-20 Points.1      0\n",
      "%21-25 Points.1      0\n",
      "2013 Total           0\n",
      "%0-5 Points.2        0\n",
      "%6-10 Points.2       0\n",
      "%11-15 Points.2      0\n",
      "%16-20 Points.2      0\n",
      "2014 Total           0\n",
      "%0-5 Points.3        0\n",
      "%6-10 Points.3       0\n",
      "%11-15 Points.3      0\n",
      "%16-20 Points.3      0\n",
      "2015 Total           0\n",
      "%0-5 Points.4        0\n",
      "%6-10 Points.4       0\n",
      "%11-15 Points.4      0\n",
      "%16-20 Points.4      0\n",
      "dtype: int64\n"
     ]
    }
   ],
   "source": [
    "# discover current null rows\n",
    "print(results_df.isnull().sum())"
   ]
  },
  {
   "cell_type": "code",
   "execution_count": 24,
   "metadata": {},
   "outputs": [],
   "source": [
    "# Remove duplicates\n",
    "results_df = results_df.drop_duplicates()"
   ]
  },
  {
   "cell_type": "code",
   "execution_count": 25,
   "metadata": {},
   "outputs": [],
   "source": [
    "# Convert data in relevant columns from string to float\n",
    "# Select all columns from the 4th column onwards\n",
    "columns_to_convert = results_df.columns[3:]\n",
    "\n",
    "# Convert space ie ' ' strings to 0.0f in the selected columns. To prevent ValueErros during conversions\n",
    "results_df[columns_to_convert] = results_df[columns_to_convert].replace(' ', float(0.0))\n",
    "\n",
    "# Convert data from the 4th column onwards to float\n",
    "results_df[columns_to_convert] = results_df[columns_to_convert].astype(float)\n"
   ]
  },
  {
   "cell_type": "code",
   "execution_count": 26,
   "metadata": {},
   "outputs": [],
   "source": [
    "# At this point we keep two dataframes for consistent accuracy. One dataset will keep the district totals\n",
    "# and will be used for operations involving districts, while the other removes district totals by removing genderless entries\n",
    "\n",
    "# Dataset for district operations\n",
    "districts_df = results_df\n",
    "\n",
    "# Dataset without district totals\n",
    "results_df = results_df[(results_df['Gender'] == 'MALE') | (results_df['Gender'] == 'FEMALE')]"
   ]
  },
  {
   "cell_type": "markdown",
   "metadata": {},
   "source": [
    "## Descriptive Data Analysis\n"
   ]
  },
  {
   "cell_type": "code",
   "execution_count": 27,
   "metadata": {},
   "outputs": [
    {
     "data": {
      "image/png": "[encoded data removed]",
      "text/plain": [
       "<Figure size 800x600 with 1 Axes>"
      ]
     },
     "metadata": {},
     "output_type": "display_data"
    }
   ],
   "source": [
    "######################## ARIYO ###########################\n",
    "\n",
    "import matplotlib.pyplot as plt\n",
    "from matplotlib.ticker import MaxNLocator\n",
    "\n",
    "years = [2011, 2012, 2013, 2014, 2015]\n",
    "grandTotalEntry = districts_df.iloc[-1]\n",
    "# Extract the required data from the last entry\n",
    "# using the last entry since it has the grand total of each year\n",
    "total_students = [\n",
    "    grandTotalEntry['2011 Total'],\n",
    "    grandTotalEntry['2012 Total'],\n",
    "    grandTotalEntry['2013 Total'],\n",
    "    grandTotalEntry['2014 Total'],\n",
    "    grandTotalEntry['2015 Total']\n",
    "]\n",
    "\n",
    "# Create a plot using Matplotlib\n",
    "plt.figure(figsize=(8, 6)).gca().xaxis.set_major_locator(MaxNLocator(integer=True))\n",
    "plt.plot(years, total_students, marker='o', linestyle='-', color='b')\n",
    "plt.xlabel('Years')\n",
    "plt.ylabel('Total Number of Students')\n",
    "plt.title('Total Number of Students per Year')\n",
    "plt.grid(True)\n",
    "plt.show()"
   ]
  },
  {
   "cell_type": "markdown",
   "metadata": {},
   "source": [
    "### General Perfomance of students\n"
   ]
  },
  {
   "cell_type": "code",
   "execution_count": 28,
   "metadata": {},
   "outputs": [
    {
     "name": "stdout",
     "output_type": "stream",
     "text": [
      "District_Name      Grand Total\n",
      "SCHOOL                     NaN\n",
      "Gender                     NaN\n",
      "2011 Total            103681.0\n",
      "%0-5 Points               22.5\n",
      "%6-10 Points              34.9\n",
      "%11-15 Points             25.7\n",
      "%16-20 Points             13.6\n",
      "%21-25 Points              3.3\n",
      "2012 Total            111358.0\n",
      "%0-5 Points.1             20.8\n",
      "%6-10 Points.1            36.3\n",
      "%11-15 Points.1           27.1\n",
      "%16-20 Points.1           12.7\n",
      "%21-25 Points.1            3.1\n",
      "2013 Total            232258.0\n",
      "%0-5 Points.2             37.2\n",
      "%6-10 Points.2            37.3\n",
      "%11-15 Points.2           20.4\n",
      "%16-20 Points.2            5.1\n",
      "2014 Total            108263.0\n",
      "%0-5 Points.3             30.8\n",
      "%6-10 Points.3            36.4\n",
      "%11-15 Points.3           24.5\n",
      "%16-20 Points.3            8.4\n",
      "2015 Total            100705.0\n",
      "%0-5 Points.4             30.1\n",
      "%6-10 Points.4            43.0\n",
      "%11-15 Points.4           20.0\n",
      "%16-20 Points.4            3.1\n",
      "Name: 3915, dtype: object\n"
     ]
    }
   ],
   "source": [
    "# Plot of percentage of students above average in each year\n",
    "print(grandTotalEntry)"
   ]
  },
  {
   "cell_type": "code",
   "execution_count": 29,
   "metadata": {},
   "outputs": [
    {
     "data": {
      "image/png": "[encoded data removed]",
      "text/plain": [
       "<Figure size 800x600 with 1 Axes>"
      ]
     },
     "metadata": {},
     "output_type": "display_data"
    }
   ],
   "source": [
    "# From the observation above, we see that duplicate columns ie %0-5 Points, %6-10 Points, %11-15 Points, %16-20 Points, %21-25 Points\n",
    "# Have been appended with .1, .2, .3, .4 for the years after '2011 Total' which are 2012, 2013, 2014, 2015 respectively\n",
    "# Note also that after 2012, the points moved from 25 to 20\n",
    "\n",
    "aboveAverage_2011 = grandTotalEntry['%16-20 Points'] + grandTotalEntry['%21-25 Points']\n",
    "aboveAverage_2012 = grandTotalEntry['%16-20 Points.1'] + grandTotalEntry['%21-25 Points.1']\n",
    "aboveAverage_2013 = grandTotalEntry['%11-15 Points.2'] + grandTotalEntry['%16-20 Points.2']\n",
    "aboveAverage_2014 = grandTotalEntry['%11-15 Points.3'] + grandTotalEntry['%16-20 Points.3']\n",
    "aboveAverage_2015 = grandTotalEntry['%11-15 Points.4'] + grandTotalEntry['%16-20 Points.4']\n",
    "\n",
    "aboveAveragePerYear = [aboveAverage_2011, aboveAverage_2012, aboveAverage_2013, aboveAverage_2014, aboveAverage_2015]\n",
    "\n",
    "# Create a plot of Percentage of students above average per year\n",
    "plt.figure(figsize=(8, 6)).gca().xaxis.set_major_locator(MaxNLocator(integer=True))\n",
    "plt.plot(years, aboveAveragePerYear, marker='o', linestyle='-', color='b')\n",
    "plt.xlabel('Years')\n",
    "plt.ylabel('Percentage')\n",
    "plt.title('Percentage of Students Above Average Points per Year')\n",
    "plt.grid(True)\n",
    "plt.show()"
   ]
  }
 ],
 "metadata": {
  "kernelspec": {
   "display_name": "base",
   "language": "python",
   "name": "python3"
  },
  "language_info": {
   "codemirror_mode": {
    "name": "ipython",
    "version": 3
   },
   "file_extension": ".py",
   "mimetype": "text/x-python",
   "name": "python",
   "nbconvert_exporter": "python",
   "pygments_lexer": "ipython3",
   "version": "3.9.6"
  },
  "orig_nbformat": 4
 },
 "nbformat": 4,
 "nbformat_minor": 2
}
